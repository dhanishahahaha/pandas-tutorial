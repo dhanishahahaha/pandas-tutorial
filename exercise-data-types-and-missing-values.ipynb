{
 "cells": [
  {
   "cell_type": "markdown",
   "id": "2bbb2050",
   "metadata": {
    "papermill": {
     "duration": 0.005402,
     "end_time": "2023-02-28T12:35:43.591079",
     "exception": false,
     "start_time": "2023-02-28T12:35:43.585677",
     "status": "completed"
    },
    "tags": []
   },
   "source": [
    "**This notebook is an exercise in the [Pandas](https://www.kaggle.com/learn/pandas) course.  You can reference the tutorial at [this link](https://www.kaggle.com/residentmario/data-types-and-missing-values).**\n",
    "\n",
    "---\n"
   ]
  },
  {
   "cell_type": "markdown",
   "id": "dd7c2df9",
   "metadata": {
    "papermill": {
     "duration": 0.004217,
     "end_time": "2023-02-28T12:35:43.599860",
     "exception": false,
     "start_time": "2023-02-28T12:35:43.595643",
     "status": "completed"
    },
    "tags": []
   },
   "source": [
    "# Introduction\n",
    "\n",
    "Run the following cell to load your data and some utility functions."
   ]
  },
  {
   "cell_type": "code",
   "execution_count": 1,
   "id": "6add4dd3",
   "metadata": {
    "execution": {
     "iopub.execute_input": "2023-02-28T12:35:43.611620Z",
     "iopub.status.busy": "2023-02-28T12:35:43.610663Z",
     "iopub.status.idle": "2023-02-28T12:35:46.526463Z",
     "shell.execute_reply": "2023-02-28T12:35:46.525062Z"
    },
    "papermill": {
     "duration": 2.926639,
     "end_time": "2023-02-28T12:35:46.530915",
     "exception": false,
     "start_time": "2023-02-28T12:35:43.604276",
     "status": "completed"
    },
    "tags": []
   },
   "outputs": [
    {
     "name": "stdout",
     "output_type": "stream",
     "text": [
      "Setup complete.\n"
     ]
    }
   ],
   "source": [
    "import pandas as pd\n",
    "\n",
    "reviews = pd.read_csv(\"../input/wine-reviews/winemag-data-130k-v2.csv\", index_col=0)\n",
    "\n",
    "from learntools.core import binder; binder.bind(globals())\n",
    "from learntools.pandas.data_types_and_missing_data import *\n",
    "print(\"Setup complete.\")"
   ]
  },
  {
   "cell_type": "markdown",
   "id": "46f5ff9e",
   "metadata": {
    "papermill": {
     "duration": 0.004143,
     "end_time": "2023-02-28T12:35:46.539748",
     "exception": false,
     "start_time": "2023-02-28T12:35:46.535605",
     "status": "completed"
    },
    "tags": []
   },
   "source": [
    "# Exercises"
   ]
  },
  {
   "cell_type": "markdown",
   "id": "3926353d",
   "metadata": {
    "papermill": {
     "duration": 0.003975,
     "end_time": "2023-02-28T12:35:46.548078",
     "exception": false,
     "start_time": "2023-02-28T12:35:46.544103",
     "status": "completed"
    },
    "tags": []
   },
   "source": [
    "## 1. \n",
    "What is the data type of the `points` column in the dataset?"
   ]
  },
  {
   "cell_type": "code",
   "execution_count": 2,
   "id": "7c680a04",
   "metadata": {
    "execution": {
     "iopub.execute_input": "2023-02-28T12:35:46.558277Z",
     "iopub.status.busy": "2023-02-28T12:35:46.557853Z",
     "iopub.status.idle": "2023-02-28T12:35:46.568477Z",
     "shell.execute_reply": "2023-02-28T12:35:46.567314Z"
    },
    "papermill": {
     "duration": 0.018712,
     "end_time": "2023-02-28T12:35:46.570933",
     "exception": false,
     "start_time": "2023-02-28T12:35:46.552221",
     "status": "completed"
    },
    "tags": []
   },
   "outputs": [
    {
     "data": {
      "application/javascript": [
       "parent.postMessage({\"jupyterEvent\": \"custom.exercise_interaction\", \"data\": {\"outcomeType\": 1, \"valueTowardsCompletion\": 0.25, \"interactionType\": 1, \"questionType\": 1, \"questionId\": \"1_PointsDtype\", \"learnToolsVersion\": \"0.3.4\", \"failureMessage\": \"\", \"exceptionClass\": \"\", \"trace\": \"\"}}, \"*\")"
      ],
      "text/plain": [
       "<IPython.core.display.Javascript object>"
      ]
     },
     "metadata": {},
     "output_type": "display_data"
    },
    {
     "data": {
      "text/markdown": [
       "<span style=\"color:#33cc33\">Correct</span>"
      ],
      "text/plain": [
       "Correct"
      ]
     },
     "metadata": {},
     "output_type": "display_data"
    }
   ],
   "source": [
    "# Your code here\n",
    "dtype = reviews.points.dtype\n",
    "\n",
    "# Check your answer\n",
    "q1.check()"
   ]
  },
  {
   "cell_type": "code",
   "execution_count": 3,
   "id": "63b229b8",
   "metadata": {
    "execution": {
     "iopub.execute_input": "2023-02-28T12:35:46.582526Z",
     "iopub.status.busy": "2023-02-28T12:35:46.581450Z",
     "iopub.status.idle": "2023-02-28T12:35:46.585822Z",
     "shell.execute_reply": "2023-02-28T12:35:46.584799Z"
    },
    "papermill": {
     "duration": 0.012664,
     "end_time": "2023-02-28T12:35:46.588280",
     "exception": false,
     "start_time": "2023-02-28T12:35:46.575616",
     "status": "completed"
    },
    "tags": []
   },
   "outputs": [],
   "source": [
    "#q1.hint()\n",
    "#q1.solution()"
   ]
  },
  {
   "cell_type": "markdown",
   "id": "19ccd733",
   "metadata": {
    "papermill": {
     "duration": 0.004409,
     "end_time": "2023-02-28T12:35:46.597400",
     "exception": false,
     "start_time": "2023-02-28T12:35:46.592991",
     "status": "completed"
    },
    "tags": []
   },
   "source": [
    "## 2. \n",
    "Create a Series from entries in the `points` column, but convert the entries to strings. Hint: strings are `str` in native Python."
   ]
  },
  {
   "cell_type": "code",
   "execution_count": 4,
   "id": "11d7d76a",
   "metadata": {
    "execution": {
     "iopub.execute_input": "2023-02-28T12:35:46.609454Z",
     "iopub.status.busy": "2023-02-28T12:35:46.608409Z",
     "iopub.status.idle": "2023-02-28T12:35:46.697703Z",
     "shell.execute_reply": "2023-02-28T12:35:46.696384Z"
    },
    "papermill": {
     "duration": 0.098193,
     "end_time": "2023-02-28T12:35:46.700435",
     "exception": false,
     "start_time": "2023-02-28T12:35:46.602242",
     "status": "completed"
    },
    "tags": []
   },
   "outputs": [
    {
     "data": {
      "application/javascript": [
       "parent.postMessage({\"jupyterEvent\": \"custom.exercise_interaction\", \"data\": {\"outcomeType\": 1, \"valueTowardsCompletion\": 0.25, \"interactionType\": 1, \"questionType\": 1, \"questionId\": \"2_StrPoints\", \"learnToolsVersion\": \"0.3.4\", \"failureMessage\": \"\", \"exceptionClass\": \"\", \"trace\": \"\"}}, \"*\")"
      ],
      "text/plain": [
       "<IPython.core.display.Javascript object>"
      ]
     },
     "metadata": {},
     "output_type": "display_data"
    },
    {
     "data": {
      "text/markdown": [
       "<span style=\"color:#33cc33\">Correct</span>"
      ],
      "text/plain": [
       "Correct"
      ]
     },
     "metadata": {},
     "output_type": "display_data"
    }
   ],
   "source": [
    "point_strings = reviews.points.astype('str')\n",
    "\n",
    "# Check your answer\n",
    "q2.check()"
   ]
  },
  {
   "cell_type": "code",
   "execution_count": 5,
   "id": "c6c2662d",
   "metadata": {
    "execution": {
     "iopub.execute_input": "2023-02-28T12:35:46.712469Z",
     "iopub.status.busy": "2023-02-28T12:35:46.711689Z",
     "iopub.status.idle": "2023-02-28T12:35:46.721149Z",
     "shell.execute_reply": "2023-02-28T12:35:46.719948Z"
    },
    "papermill": {
     "duration": 0.018471,
     "end_time": "2023-02-28T12:35:46.723935",
     "exception": false,
     "start_time": "2023-02-28T12:35:46.705464",
     "status": "completed"
    },
    "tags": []
   },
   "outputs": [
    {
     "data": {
      "application/javascript": [
       "parent.postMessage({\"jupyterEvent\": \"custom.exercise_interaction\", \"data\": {\"interactionType\": 2, \"questionType\": 1, \"questionId\": \"2_StrPoints\", \"learnToolsVersion\": \"0.3.4\", \"valueTowardsCompletion\": 0.0, \"failureMessage\": \"\", \"exceptionClass\": \"\", \"trace\": \"\", \"outcomeType\": 4}}, \"*\")"
      ],
      "text/plain": [
       "<IPython.core.display.Javascript object>"
      ]
     },
     "metadata": {},
     "output_type": "display_data"
    },
    {
     "data": {
      "text/markdown": [
       "<span style=\"color:#3366cc\">Hint:</span> Convert a column of one type to another by using the `astype` function."
      ],
      "text/plain": [
       "Hint: Convert a column of one type to another by using the `astype` function."
      ]
     },
     "metadata": {},
     "output_type": "display_data"
    }
   ],
   "source": [
    "q2.hint()\n",
    "#q2.solution()"
   ]
  },
  {
   "cell_type": "markdown",
   "id": "093ca278",
   "metadata": {
    "papermill": {
     "duration": 0.004903,
     "end_time": "2023-02-28T12:35:46.734066",
     "exception": false,
     "start_time": "2023-02-28T12:35:46.729163",
     "status": "completed"
    },
    "tags": []
   },
   "source": [
    "## 3.\n",
    "Sometimes the price column is null. How many reviews in the dataset are missing a price?"
   ]
  },
  {
   "cell_type": "code",
   "execution_count": 6,
   "id": "b48f3361",
   "metadata": {
    "execution": {
     "iopub.execute_input": "2023-02-28T12:35:46.745922Z",
     "iopub.status.busy": "2023-02-28T12:35:46.745525Z",
     "iopub.status.idle": "2023-02-28T12:35:46.756474Z",
     "shell.execute_reply": "2023-02-28T12:35:46.755125Z"
    },
    "papermill": {
     "duration": 0.019614,
     "end_time": "2023-02-28T12:35:46.758731",
     "exception": false,
     "start_time": "2023-02-28T12:35:46.739117",
     "status": "completed"
    },
    "tags": []
   },
   "outputs": [
    {
     "data": {
      "application/javascript": [
       "parent.postMessage({\"jupyterEvent\": \"custom.exercise_interaction\", \"data\": {\"outcomeType\": 1, \"valueTowardsCompletion\": 0.25, \"interactionType\": 1, \"questionType\": 1, \"questionId\": \"3_CountMissingPrices\", \"learnToolsVersion\": \"0.3.4\", \"failureMessage\": \"\", \"exceptionClass\": \"\", \"trace\": \"\"}}, \"*\")"
      ],
      "text/plain": [
       "<IPython.core.display.Javascript object>"
      ]
     },
     "metadata": {},
     "output_type": "display_data"
    },
    {
     "data": {
      "text/markdown": [
       "<span style=\"color:#33cc33\">Correct</span>"
      ],
      "text/plain": [
       "Correct"
      ]
     },
     "metadata": {},
     "output_type": "display_data"
    }
   ],
   "source": [
    "n_missing_prices = reviews.price.isnull().sum()\n",
    "\n",
    "# Check your answer\n",
    "q3.check()"
   ]
  },
  {
   "cell_type": "code",
   "execution_count": 7,
   "id": "1dcbedd0",
   "metadata": {
    "execution": {
     "iopub.execute_input": "2023-02-28T12:35:46.771053Z",
     "iopub.status.busy": "2023-02-28T12:35:46.770666Z",
     "iopub.status.idle": "2023-02-28T12:35:46.775516Z",
     "shell.execute_reply": "2023-02-28T12:35:46.774343Z"
    },
    "papermill": {
     "duration": 0.014052,
     "end_time": "2023-02-28T12:35:46.778076",
     "exception": false,
     "start_time": "2023-02-28T12:35:46.764024",
     "status": "completed"
    },
    "tags": []
   },
   "outputs": [],
   "source": [
    "#q3.hint()\n",
    "#q3.solution()"
   ]
  },
  {
   "cell_type": "markdown",
   "id": "4d504fc8",
   "metadata": {
    "papermill": {
     "duration": 0.005176,
     "end_time": "2023-02-28T12:35:46.788785",
     "exception": false,
     "start_time": "2023-02-28T12:35:46.783609",
     "status": "completed"
    },
    "tags": []
   },
   "source": [
    "## 4.\n",
    "What are the most common wine-producing regions? Create a Series counting the number of times each value occurs in the `region_1` field. This field is often missing data, so replace missing values with `Unknown`. Sort in descending order.  Your output should look something like this:\n",
    "\n",
    "```\n",
    "Unknown                    21247\n",
    "Napa Valley                 4480\n",
    "                           ...  \n",
    "Bardolino Superiore            1\n",
    "Primitivo del Tarantino        1\n",
    "Name: region_1, Length: 1230, dtype: int64\n",
    "```"
   ]
  },
  {
   "cell_type": "code",
   "execution_count": 8,
   "id": "b79464a3",
   "metadata": {
    "execution": {
     "iopub.execute_input": "2023-02-28T12:35:46.802371Z",
     "iopub.status.busy": "2023-02-28T12:35:46.801964Z",
     "iopub.status.idle": "2023-02-28T12:35:46.847722Z",
     "shell.execute_reply": "2023-02-28T12:35:46.846803Z"
    },
    "papermill": {
     "duration": 0.056502,
     "end_time": "2023-02-28T12:35:46.850536",
     "exception": false,
     "start_time": "2023-02-28T12:35:46.794034",
     "status": "completed"
    },
    "tags": []
   },
   "outputs": [
    {
     "data": {
      "application/javascript": [
       "parent.postMessage({\"jupyterEvent\": \"custom.exercise_interaction\", \"data\": {\"outcomeType\": 1, \"valueTowardsCompletion\": 0.25, \"interactionType\": 1, \"questionType\": 2, \"questionId\": \"4_ReviewsPerRegion\", \"learnToolsVersion\": \"0.3.4\", \"failureMessage\": \"\", \"exceptionClass\": \"\", \"trace\": \"\"}}, \"*\")"
      ],
      "text/plain": [
       "<IPython.core.display.Javascript object>"
      ]
     },
     "metadata": {},
     "output_type": "display_data"
    },
    {
     "data": {
      "text/markdown": [
       "<span style=\"color:#33cc33\">Correct</span>"
      ],
      "text/plain": [
       "Correct"
      ]
     },
     "metadata": {},
     "output_type": "display_data"
    }
   ],
   "source": [
    "reviews_per_region = reviews.region_1.fillna('Unknown').value_counts().sort_values(ascending = False)\n",
    "\n",
    "# Check your answer\n",
    "q4.check()"
   ]
  },
  {
   "cell_type": "code",
   "execution_count": 9,
   "id": "200ad490",
   "metadata": {
    "collapsed": true,
    "execution": {
     "iopub.execute_input": "2023-02-28T12:35:46.864460Z",
     "iopub.status.busy": "2023-02-28T12:35:46.863860Z",
     "iopub.status.idle": "2023-02-28T12:35:46.878187Z",
     "shell.execute_reply": "2023-02-28T12:35:46.876828Z"
    },
    "jupyter": {
     "outputs_hidden": true
    },
    "papermill": {
     "duration": 0.02408,
     "end_time": "2023-02-28T12:35:46.880425",
     "exception": false,
     "start_time": "2023-02-28T12:35:46.856345",
     "status": "completed"
    },
    "tags": []
   },
   "outputs": [
    {
     "data": {
      "application/javascript": [
       "parent.postMessage({\"jupyterEvent\": \"custom.exercise_interaction\", \"data\": {\"interactionType\": 2, \"questionType\": 2, \"questionId\": \"4_ReviewsPerRegion\", \"learnToolsVersion\": \"0.3.4\", \"valueTowardsCompletion\": 0.0, \"failureMessage\": \"\", \"exceptionClass\": \"\", \"trace\": \"\", \"outcomeType\": 4}}, \"*\")"
      ],
      "text/plain": [
       "<IPython.core.display.Javascript object>"
      ]
     },
     "metadata": {},
     "output_type": "display_data"
    },
    {
     "data": {
      "text/markdown": [
       "<span style=\"color:#3366cc\">Hint:</span> Use `fillna()`, `value_counts()`, and `sort_values()`."
      ],
      "text/plain": [
       "Hint: Use `fillna()`, `value_counts()`, and `sort_values()`."
      ]
     },
     "metadata": {},
     "output_type": "display_data"
    },
    {
     "data": {
      "application/javascript": [
       "parent.postMessage({\"jupyterEvent\": \"custom.exercise_interaction\", \"data\": {\"interactionType\": 3, \"questionType\": 2, \"questionId\": \"4_ReviewsPerRegion\", \"learnToolsVersion\": \"0.3.4\", \"valueTowardsCompletion\": 0.0, \"failureMessage\": \"\", \"exceptionClass\": \"\", \"trace\": \"\", \"outcomeType\": 4}}, \"*\")"
      ],
      "text/plain": [
       "<IPython.core.display.Javascript object>"
      ]
     },
     "metadata": {},
     "output_type": "display_data"
    },
    {
     "data": {
      "text/markdown": [
       "<span style=\"color:#33cc99\">Solution:</span> \n",
       "```python\n",
       "reviews_per_region = reviews.region_1.fillna('Unknown').value_counts().sort_values(ascending=False)\n",
       "```"
      ],
      "text/plain": [
       "Solution: \n",
       "```python\n",
       "reviews_per_region = reviews.region_1.fillna('Unknown').value_counts().sort_values(ascending=False)\n",
       "```"
      ]
     },
     "metadata": {},
     "output_type": "display_data"
    }
   ],
   "source": [
    "q4.hint()\n",
    "q4.solution()"
   ]
  },
  {
   "cell_type": "markdown",
   "id": "c42febde",
   "metadata": {
    "papermill": {
     "duration": 0.005964,
     "end_time": "2023-02-28T12:35:46.892586",
     "exception": false,
     "start_time": "2023-02-28T12:35:46.886622",
     "status": "completed"
    },
    "tags": []
   },
   "source": [
    "# Keep going\n",
    "\n",
    "Move on to **[renaming and combining](https://www.kaggle.com/residentmario/renaming-and-combining)**."
   ]
  },
  {
   "cell_type": "markdown",
   "id": "dbfeb906",
   "metadata": {
    "papermill": {
     "duration": 0.005915,
     "end_time": "2023-02-28T12:35:46.904831",
     "exception": false,
     "start_time": "2023-02-28T12:35:46.898916",
     "status": "completed"
    },
    "tags": []
   },
   "source": [
    "---\n",
    "\n",
    "\n",
    "\n",
    "\n",
    "*Have questions or comments? Visit the [course discussion forum](https://www.kaggle.com/learn/pandas/discussion) to chat with other learners.*"
   ]
  }
 ],
 "metadata": {
  "kernelspec": {
   "display_name": "Python 3",
   "language": "python",
   "name": "python3"
  },
  "language_info": {
   "codemirror_mode": {
    "name": "ipython",
    "version": 3
   },
   "file_extension": ".py",
   "mimetype": "text/x-python",
   "name": "python",
   "nbconvert_exporter": "python",
   "pygments_lexer": "ipython3",
   "version": "3.7.12"
  },
  "papermill": {
   "default_parameters": {},
   "duration": 14.38622,
   "end_time": "2023-02-28T12:35:47.634492",
   "environment_variables": {},
   "exception": null,
   "input_path": "__notebook__.ipynb",
   "output_path": "__notebook__.ipynb",
   "parameters": {},
   "start_time": "2023-02-28T12:35:33.248272",
   "version": "2.4.0"
  }
 },
 "nbformat": 4,
 "nbformat_minor": 5
}
